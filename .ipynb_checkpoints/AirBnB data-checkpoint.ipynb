{
 "cells": [
  {
   "cell_type": "code",
   "execution_count": 59,
   "metadata": {
    "collapsed": false
   },
   "outputs": [],
   "source": [
    "from datetime import datetime\n",
    "import numpy as np\n",
    "import pandas as pd\n",
    "import matplotlib.pyplot as plt"
   ]
  },
  {
   "cell_type": "code",
   "execution_count": 60,
   "metadata": {
    "collapsed": false
   },
   "outputs": [],
   "source": [
    "file_name = \"airbnb_session_data.txt\"\n",
    "df = pd.read_csv(file_name, delimiter ='|', parse_dates=['ds','ts_max','ts_min','next_ts_max','next_ts_min'])"
   ]
  },
  {
   "cell_type": "code",
   "execution_count": 61,
   "metadata": {
    "collapsed": false
   },
   "outputs": [],
   "source": [
    "boolean_columns = [\n",
    "    'did_search', \n",
    "    'sent_message',\n",
    "    'sent_booking_request', \n",
    "    'next_did_search',\n",
    "    'next_sent_message',\n",
    "    'next_sent_booking_request'\n",
    "]\n",
    "df[boolean_columns] = df[boolean_columns].astype(bool)"
   ]
  },
  {
   "cell_type": "code",
   "execution_count": 62,
   "metadata": {
    "collapsed": false
   },
   "outputs": [],
   "source": [
    "# session duration is in Minutes\n",
    "df['session_duration'] = (df['ts_max'] - df['ts_min']) / np.timedelta64(1, 'm')\n",
    "df['next_session_duration'] = (df['next_ts_max'] - df['next_ts_min']) / np.timedelta64(1, 'm')"
   ]
  },
  {
   "cell_type": "code",
   "execution_count": 63,
   "metadata": {
    "collapsed": false
   },
   "outputs": [
    {
     "data": {
      "text/plain": [
       "id_visitor                           object\n",
       "id_session                           object\n",
       "dim_session_number                    int64\n",
       "dim_user_agent                       object\n",
       "dim_device_app_combo                 object\n",
       "ds                           datetime64[ns]\n",
       "ts_min                       datetime64[ns]\n",
       "ts_max                       datetime64[ns]\n",
       "did_search                             bool\n",
       "sent_message                           bool\n",
       "sent_booking_request                   bool\n",
       "next_id_session                      object\n",
       "next_dim_session_number             float64\n",
       "next_dim_user_agent                  object\n",
       "next_dim_device_app_combo            object\n",
       "next_ds                              object\n",
       "next_ts_min                  datetime64[ns]\n",
       "next_ts_max                  datetime64[ns]\n",
       "next_did_search                        bool\n",
       "next_sent_message                      bool\n",
       "next_sent_booking_request              bool\n",
       "session_duration                    float64\n",
       "next_session_duration               float64\n",
       "dtype: object"
      ]
     },
     "execution_count": 63,
     "metadata": {},
     "output_type": "execute_result"
    }
   ],
   "source": [
    "df.dtypes"
   ]
  },
  {
   "cell_type": "code",
   "execution_count": 64,
   "metadata": {
    "collapsed": false
   },
   "outputs": [
    {
     "data": {
      "text/plain": [
       "525"
      ]
     },
     "execution_count": 64,
     "metadata": {},
     "output_type": "execute_result"
    }
   ],
   "source": [
    "# count of users who didnt do an action on the site\n",
    "len(np.unique(df[(df['did_search'] == False) & (df['sent_message'] == False) & (df['sent_booking_request'] == False) ]['id_visitor']))"
   ]
  },
  {
   "cell_type": "code",
   "execution_count": 65,
   "metadata": {
    "collapsed": false
   },
   "outputs": [
    {
     "data": {
      "text/plain": [
       "89"
      ]
     },
     "execution_count": 65,
     "metadata": {},
     "output_type": "execute_result"
    }
   ],
   "source": [
    "visitors_sent_message = np.unique(df[df['sent_message'] == True]['id_visitor'])\n",
    "len(visitors_sent_message)"
   ]
  },
  {
   "cell_type": "code",
   "execution_count": 66,
   "metadata": {
    "collapsed": false
   },
   "outputs": [
    {
     "data": {
      "text/plain": [
       "261"
      ]
     },
     "execution_count": 66,
     "metadata": {},
     "output_type": "execute_result"
    }
   ],
   "source": [
    "visitors_did_search = np.unique(df[df['did_search'] == True]['id_visitor'])\n",
    "len(visitors_did_search)"
   ]
  },
  {
   "cell_type": "code",
   "execution_count": 67,
   "metadata": {
    "collapsed": false
   },
   "outputs": [
    {
     "data": {
      "text/plain": [
       "50"
      ]
     },
     "execution_count": 67,
     "metadata": {},
     "output_type": "execute_result"
    }
   ],
   "source": [
    "visitors_sent_booking_request = np.unique(df[df['sent_booking_request'] == True]['id_visitor'])\n",
    "len(visitors_sent_booking_request)"
   ]
  },
  {
   "cell_type": "code",
   "execution_count": 68,
   "metadata": {
    "collapsed": false
   },
   "outputs": [
    {
     "data": {
      "text/plain": [
       "49"
      ]
     },
     "execution_count": 68,
     "metadata": {},
     "output_type": "execute_result"
    }
   ],
   "source": [
    "# count of visitors who sent booking and send messages\n",
    "len(np.intersect1d(visitors_sent_booking_request, visitors_sent_message))"
   ]
  },
  {
   "cell_type": "code",
   "execution_count": 69,
   "metadata": {
    "collapsed": false
   },
   "outputs": [
    {
     "data": {
      "text/plain": [
       "49"
      ]
     },
     "execution_count": 69,
     "metadata": {},
     "output_type": "execute_result"
    }
   ],
   "source": [
    "# count of visitors who sent booking and did search\n",
    "len(np.intersect1d(visitors_sent_booking_request, visitors_did_search))"
   ]
  },
  {
   "cell_type": "code",
   "execution_count": 70,
   "metadata": {
    "collapsed": false
   },
   "outputs": [
    {
     "data": {
      "text/plain": [
       "84"
      ]
     },
     "execution_count": 70,
     "metadata": {},
     "output_type": "execute_result"
    }
   ],
   "source": [
    "# count of visitors who sent messages and did search\n",
    "len(np.intersect1d(visitors_sent_message, visitors_did_search))"
   ]
  },
  {
   "cell_type": "code",
   "execution_count": null,
   "metadata": {
    "collapsed": true
   },
   "outputs": [],
   "source": []
  }
 ],
 "metadata": {
  "kernelspec": {
   "display_name": "Python 3",
   "language": "python",
   "name": "python3"
  },
  "language_info": {
   "codemirror_mode": {
    "name": "ipython",
    "version": 3
   },
   "file_extension": ".py",
   "mimetype": "text/x-python",
   "name": "python",
   "nbconvert_exporter": "python",
   "pygments_lexer": "ipython3",
   "version": "3.4.3"
  }
 },
 "nbformat": 4,
 "nbformat_minor": 0
}
